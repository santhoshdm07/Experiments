{
  "nbformat": 4,
  "nbformat_minor": 0,
  "metadata": {
    "colab": {
      "provenance": []
    },
    "kernelspec": {
      "name": "python3",
      "display_name": "Python 3"
    },
    "language_info": {
      "name": "python"
    }
  },
  "cells": [
    {
      "cell_type": "code",
      "execution_count": 2,
      "metadata": {
        "id": "KYHCTUgtgVrH"
      },
      "outputs": [],
      "source": [
        "# !pip install fireducks polars modin[ray]"
      ]
    },
    {
      "cell_type": "code",
      "source": [
        "import numpy as np\n",
        "import pandas as pd\n",
        "import fireducks.pandas as fd\n",
        "import modin.pandas as md\n",
        "import polars as pl\n",
        "import time\n",
        "\n",
        "np.random.seed(42)\n",
        "\n",
        "num_rows = 1_000_000\n",
        "data = {\n",
        "    'A': np.random.rand(num_rows),\n",
        "    'B': np.random.rand(num_rows),\n",
        "    'C': np.random.choice([1, 2, 3, np.nan], size=num_rows)\n",
        "}\n",
        "data['C'][data['C'] < 0.1] = np.nan\n",
        "\n",
        "# Save data to a CSV file for benchmarking\n",
        "df_initial = pd.DataFrame(data)\n",
        "df_initial.to_csv('benchmark_data.csv', index=False)\n",
        "\n",
        "def time_function(func):\n",
        "    start_time = time.time()\n",
        "    func()\n",
        "    return time.time() - start_time\n",
        "\n",
        "def load_data():\n",
        "    df_pd = pd.read_csv('benchmark_data.csv')\n",
        "    df_pl = pl.read_csv('benchmark_data.csv')\n",
        "    df_md = md.read_csv('benchmark_data.csv')\n",
        "    df_fd = fd.read_csv('benchmark_data.csv')\n",
        "    return df_pd, df_pl, df_md, df_fd\n",
        "\n",
        "def drop_na(df):\n",
        "    if isinstance(df, pd.DataFrame):\n",
        "        return df.dropna()\n",
        "    elif isinstance(df, pl.DataFrame):\n",
        "        return df.drop_nulls()\n",
        "    elif isinstance(df, md.DataFrame):\n",
        "        return df.dropna()\n",
        "    elif isinstance(df, fd.DataFrame):\n",
        "        return df.dropna()\n",
        "\n",
        "def filter_data(df):\n",
        "    if isinstance(df, pd.DataFrame) or isinstance(df, md.DataFrame) or isinstance(df, fd.DataFrame):\n",
        "        return df[df['C'] > 1]\n",
        "    elif isinstance(df, pl.DataFrame):\n",
        "        return df.filter(pl.col('C') > 1)\n",
        "\n",
        "def sort_data(df):\n",
        "    if isinstance(df, pd.DataFrame) or isinstance(df, md.DataFrame) or isinstance(df, fd.DataFrame):\n",
        "        return df.sort_values(by='A')\n",
        "    elif isinstance(df, pl.DataFrame):\n",
        "        return df.sort('A')\n",
        "\n",
        "def benchmark():\n",
        "    df_pd, df_pl, df_md, df_fd = load_data()\n",
        "\n",
        "    libraries = {\n",
        "        \"Pandas\": df_pd,\n",
        "        \"Polars\": df_pl,\n",
        "        \"Modin\": df_md,\n",
        "        \"FireDucks\": df_fd,\n",
        "    }\n",
        "\n",
        "    results = {\n",
        "        \"Library\": [],\n",
        "        \"Read Time (s)\": [],\n",
        "        \"Drop NaN Time (s)\": [],\n",
        "        \"Filter Time (s)\": [],\n",
        "        \"Sort Time (s)\": [],\n",
        "    }\n",
        "\n",
        "    for name, df in libraries.items():\n",
        "        read_time = time_function(lambda: load_data())\n",
        "        results[\"Library\"].append(name)\n",
        "        results[\"Read Time (s)\"].append(read_time)\n",
        "\n",
        "        dropna_time = time_function(lambda: drop_na(df))\n",
        "        results[\"Drop NaN Time (s)\"].append(dropna_time)\n",
        "\n",
        "        filter_time = time_function(lambda: filter_data(df))\n",
        "        results[\"Filter Time (s)\"].append(filter_time)\n",
        "\n",
        "        sort_time = time_function(lambda: sort_data(df))\n",
        "        results[\"Sort Time (s)\"].append(sort_time)\n",
        "\n",
        "    df_results = pd.DataFrame(results)\n",
        "    return df_results\n",
        "\n",
        "if __name__ == \"__main__\":\n",
        "    results_df = benchmark()\n",
        "    print(results_df)\n"
      ],
      "metadata": {
        "colab": {
          "base_uri": "https://localhost:8080/"
        },
        "id": "Z4VqVfiToITE",
        "outputId": "678646c5-bc46-4dac-aab7-636e84bd1f15"
      },
      "execution_count": 14,
      "outputs": [
        {
          "output_type": "stream",
          "name": "stdout",
          "text": [
            "     Library  Read Time (s)  Drop NaN Time (s)  Filter Time (s)  Sort Time (s)\n",
            "0     Pandas       1.359096           0.020782         0.013297       0.176111\n",
            "1     Polars       2.882995           0.006110         0.006710       0.231632\n",
            "2      Modin       2.051264           0.030071         0.011369       0.157387\n",
            "3  FireDucks       1.382198           0.000579         0.000554       0.000442\n"
          ]
        }
      ]
    },
    {
      "cell_type": "code",
      "source": [],
      "metadata": {
        "id": "9-c6bGACqSUC"
      },
      "execution_count": null,
      "outputs": []
    }
  ]
}